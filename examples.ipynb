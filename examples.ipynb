{
 "cells": [
  {
   "cell_type": "markdown",
   "metadata": {},
   "source": [
    "### Quick examples for running random-policy agent and (full batch) bayesian-optimization-policy agent"
   ]
  },
  {
   "cell_type": "code",
   "execution_count": 1,
   "metadata": {},
   "outputs": [],
   "source": [
    "\"\"\"helper functions\"\"\"\n",
    "from pensimpy.helper.get_recipe_trend import get_recipe_trend\n",
    "\n",
    "\n",
    "class RecipeBuilder:\n",
    "    \"\"\"builds the recipe that can run with the env, given setpoints\"\"\"\n",
    "    def __init__(self, Fs_sp, pres_sp):\n",
    "        # recipes\n",
    "        Fs = [15, 60, 80, 100, 120, 140, 160, 180, 200, 220, 240, 260, 280, 300, 320, 340, 360, 380, 400, 800, 1750]\n",
    "        assert len(Fs_sp) == len(Fs)\n",
    "\n",
    "        # [{\"step\": t, \"value\": fs } for t, fs in zip(Fs, Fs_sp)]\n",
    "        self.Fs_trend = get_recipe_trend(Fs, Fs_sp)\n",
    "\n",
    "        Foil = [20, 80, 280, 300, 320, 340, 360, 380, 400, 1750]\n",
    "        Foil_sp = [22, 30, 35, 34, 33, 32, 31, 30, 29, 23]\n",
    "        self.Foil_trend = get_recipe_trend(Foil, Foil_sp)\n",
    "\n",
    "        Fg = [40, 100, 200, 450, 1000, 1250, 1750]\n",
    "        Fg_sp = [30, 42, 55, 60, 75, 65, 60]\n",
    "        self.Fg_trend = get_recipe_trend(Fg, Fg_sp)\n",
    "\n",
    "        pres = [62, 125, 150, 200, 500, 750, 1000, 1750]\n",
    "        assert len(pres) == len(pres)\n",
    "        self.pres_trend = get_recipe_trend(pres, pres_sp)\n",
    "\n",
    "        discharge = [500, 510, 650, 660, 750, 760, 850, 860, 950, 960, 1050, 1060, 1150, 1160, 1250, 1260, 1350, 1360, 1750]\n",
    "        discharge_sp = [0, 4000, 0, 4000, 0, 4000, 0, 4000, 0, 4000, 0, 4000, 0, 4000, 0, 4000, 0, 4000, 0, 0]\n",
    "        self.discharge_trend = get_recipe_trend(discharge, discharge_sp)\n",
    "\n",
    "        water = [250, 375, 750, 800, 850, 1000, 1250, 1350, 1750]\n",
    "        water_sp = [0, 500, 100, 0, 400, 150, 250, 0, 100]\n",
    "        self.water_trend = get_recipe_trend(water, water_sp)\n",
    "\n",
    "        PAA = [25, 200, 1000, 1500, 1750]\n",
    "        PAA_sp = [5, 0, 10, 4, 0]\n",
    "        self.PAA_trend = get_recipe_trend(PAA, PAA_sp)\n",
    "\n",
    "    def run(self, t):\n",
    "        t -= 1\n",
    "        return self.Fs_trend[t], self.Foil_trend[t], self.Fg_trend[t], self.pres_trend[t], self.discharge_trend[t], \\\n",
    "               self.water_trend[t], self.PAA_trend[t]\n"
   ]
  },
  {
   "cell_type": "code",
   "execution_count": 2,
   "metadata": {},
   "outputs": [],
   "source": [
    "import time\n",
    "from pensimpy.pensim_classes.Recipe import Recipe\n",
    "from pensimpy.env_setup.peni_env_setup import PenSimEnv\n",
    "from pensimpy.helper.show_params import show_params"
   ]
  },
  {
   "cell_type": "markdown",
   "metadata": {},
   "source": [
    "### Random Policy"
   ]
  },
  {
   "cell_type": "code",
   "execution_count": 3,
   "metadata": {},
   "outputs": [
    {
     "data": {
      "application/vnd.jupyter.widget-view+json": {
       "model_id": "114e43ae3d984112ae22e8a485a1d9e5",
       "version_major": 2,
       "version_minor": 0
      },
      "text/plain": [
       "HBox(children=(FloatProgress(value=0.0, max=10.0), HTML(value='')))"
      ]
     },
     "metadata": {},
     "output_type": "display_data"
    },
    {
     "name": "stdout",
     "output_type": "stream",
     "text": [
      "=== batch_yield: 3058.740164788223\n",
      "=== batch_yield: 3406.280043370314\n",
      "=== batch_yield: 3535.9662214807163\n",
      "=== batch_yield: 3530.9012482641842\n",
      "=== batch_yield: 3437.554069209931\n",
      "=== batch_yield: 3460.508964129601\n",
      "=== batch_yield: 3531.485899589944\n",
      "=== batch_yield: 3488.244777916042\n",
      "=== batch_yield: 3581.2754878286446\n",
      "=== batch_yield: 3495.1363072446925\n",
      "\n"
     ]
    }
   ],
   "source": [
    "from tqdm.auto import tqdm\n",
    "from random import random, seed\n",
    "\n",
    "seed(123)\n",
    "\n",
    "def randomize_sp(sp, random_scale=0.1, cast=float):\n",
    "    return [cast(x * (1 + (-1 if random() < 0.5 else 1) * random() * random_scale)) for x in sp]\n",
    "\n",
    "num_batches = 10\n",
    "batch_yields = [] # record yield per batch\n",
    "\n",
    "recipe_Fs_sp = [8, 15, 30, 75, 150, 30, 37, 43, 47, 51, 57, 61, 65, 72, 76, 80, 84, 90, 116, 90, 80]\n",
    "recipe_pres_sp = [0.6, 0.7, 0.8, 0.9, 1.1, 1, 0.9, 0.9]\n",
    "\n",
    "for b in tqdm(range(num_batches)):\n",
    "    env = PenSimEnv()\n",
    "    done = False\n",
    "    observation = env.reset()\n",
    "    recipe = RecipeBuilder(Fs_sp=randomize_sp(recipe_Fs_sp, cast=int), \n",
    "                                 pres_sp=randomize_sp(recipe_pres_sp, cast=float))\n",
    "\n",
    "    time_stamp, batch_yield, yield_pre = 0, 0, 0\n",
    "    while not done:\n",
    "        # time is from 1 to 1150\n",
    "        time_stamp += 1\n",
    "\n",
    "        # Get action from recipe agent based on time\n",
    "        Fs, Foil, Fg, Fpres, Fdischarge, Fw, Fpaa = recipe.run(time_stamp)\n",
    "\n",
    "        # Run and get the reward\n",
    "        # observation is a class which contains all the variables, e.g. observation.Fs.y[k], observation.Fs.t[k]\n",
    "        # are the Fs value and corresponding time at k\n",
    "        observation, reward, done = env.step(time_stamp,\n",
    "                                             observation,\n",
    "                                             Fs, Foil, Fg, Fpres, Fdischarge, Fw, Fpaa)\n",
    "\n",
    "        batch_yield += reward\n",
    "    print(f\"=== batch_yield: {batch_yield}\")\n",
    "    batch_yields.append(batch_yield)"
   ]
  },
  {
   "cell_type": "code",
   "execution_count": 4,
   "metadata": {},
   "outputs": [
    {
     "name": "stdout",
     "output_type": "stream",
     "text": [
      "[3058.740164788223, 3406.280043370314, 3535.9662214807163, 3530.9012482641842, 3437.554069209931, 3460.508964129601, 3531.485899589944, 3488.244777916042, 3581.2754878286446, 3495.1363072446925]\n"
     ]
    }
   ],
   "source": [
    "print(batch_yields)"
   ]
  },
  {
   "cell_type": "markdown",
   "metadata": {},
   "source": [
    "### Bayesian Optimization Policy"
   ]
  },
  {
   "cell_type": "code",
   "execution_count": 6,
   "metadata": {},
   "outputs": [],
   "source": [
    "\"\"\"defines the search space\"\"\"\n",
    "from skopt.space import Real, Integer\n",
    "space = []\n",
    "manup_scale = 0.1\n",
    "for Fs in recipe_Fs_sp:\n",
    "    space.append(Integer(int(Fs-Fs*manup_scale), int(Fs+Fs*manup_scale)))\n",
    "\n",
    "for pres in recipe_pres_sp:\n",
    "    space.append(Real(pres-pres*manup_scale, pres+pres*manup_scale))"
   ]
  },
  {
   "cell_type": "code",
   "execution_count": 7,
   "metadata": {},
   "outputs": [],
   "source": [
    "def get_batch_yield(sp_points):\n",
    "    \"\"\"return negative batch yield given all the set points\"\"\"\n",
    "    \n",
    "    Fs_sp = sp_points[:len(recipe_Fs_sp)]\n",
    "    pres_sp = sp_points[len(recipe_Fs_sp):]\n",
    "    \n",
    "    env = PenSimEnv()\n",
    "    done = False\n",
    "    observation = env.reset()\n",
    "    recipe = RecipeBuilder(Fs_sp, pres_sp)\n",
    "    time_stamp, batch_yield, yield_pre = 0, 0, 0\n",
    "    while not done:\n",
    "        # time is from 1 to 1150\n",
    "        time_stamp += 1\n",
    "\n",
    "        # Get action from recipe agent based on time\n",
    "        Fs, Foil, Fg, Fpres, Fdischarge, Fw, Fpaa = recipe.run(time_stamp)\n",
    "\n",
    "        # Run and get the reward\n",
    "        # observation is a class which contains all the variables, e.g. observation.Fs.y[k], observation.Fs.t[k]\n",
    "        # are the Fs value and corresponding time at k\n",
    "        observation, reward, done = env.step(time_stamp,\n",
    "                                             observation,\n",
    "                                             Fs, Foil, Fg, Fpres, Fdischarge, Fw, Fpaa)\n",
    "\n",
    "        batch_yield += reward\n",
    "    return -batch_yield"
   ]
  },
  {
   "cell_type": "code",
   "execution_count": 8,
   "metadata": {},
   "outputs": [],
   "source": [
    "from skopt import gp_minimize\n",
    "res_gp = gp_minimize(get_batch_yield, space, n_calls=10, n_random_starts=2, random_state=123)"
   ]
  },
  {
   "cell_type": "code",
   "execution_count": 9,
   "metadata": {},
   "outputs": [
    {
     "data": {
      "text/plain": [
       "array([-3395.97315636, -3632.97454362, -3869.52808336, -3637.24146703,\n",
       "       -3508.41821911, -3125.31455145, -3248.48513236, -3364.92369882,\n",
       "       -3571.98796183, -3529.67594696])"
      ]
     },
     "execution_count": 9,
     "metadata": {},
     "output_type": "execute_result"
    }
   ],
   "source": [
    "res_gp.func_vals"
   ]
  },
  {
   "cell_type": "code",
   "execution_count": null,
   "metadata": {},
   "outputs": [],
   "source": []
  }
 ],
 "metadata": {
  "kernelspec": {
   "display_name": "Python 3",
   "language": "python",
   "name": "python3"
  },
  "language_info": {
   "codemirror_mode": {
    "name": "ipython",
    "version": 3
   },
   "file_extension": ".py",
   "mimetype": "text/x-python",
   "name": "python",
   "nbconvert_exporter": "python",
   "pygments_lexer": "ipython3",
   "version": "3.7.5"
  }
 },
 "nbformat": 4,
 "nbformat_minor": 2
}
